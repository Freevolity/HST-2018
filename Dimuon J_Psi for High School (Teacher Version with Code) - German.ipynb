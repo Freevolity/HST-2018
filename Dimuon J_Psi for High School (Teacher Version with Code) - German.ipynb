{
 "cells": [
  {
   "cell_type": "markdown",
   "metadata": {
    "colab_type": "text",
    "id": "uZbmugoVuaUw"
   },
   "source": [
    "# Die Entdeckung von Teilchen mithilfe von \"CERN Open Data\"\n",
    "\n",
    "Der sogenannte Large Hadron Collider (LHC) am CERN in Genf wurde weltbekannt durch die Entdeckung des Higgsboson in 2012. Im Rahmen dieser Aufgabe wirst du echte Daten vom LHC verwenden um etwas darüber zu lernen wie dieser Durchbruch gelungen ist und hoffentlich selber ein Teilchen entdecken!\n",
    "\n",
    "<img src = \"https://home.cern/sites/home.web.cern.ch/files/image/update-for_the_public/2015/03/cms-event.jpg\">\n",
    "\n",
    "\n",
    "## Teilchenkollisionen\n",
    "\n",
    "Mithilfe des LHC vesuchen Forscher die kleinsten Bestandteile von Materie zu finden indem sie Protonenstrahlen, die sich annähernd mit Lichtgeschwindigkeit bewegen, kollidieren lassen. Die Energie, die bei dieser Kollision beteiligt ist, lässt Teilchen verschiedenster Art entstehen. In den Detektoren von CMS und ATLAS (beides Detektoren am LHC in CERN) werden die Teilchen, die bei diesen Kollisionen entstehen, untersucht und verschiedene Größen gemessen. Die Geschwindigkeit mit der die Daten entstehen ist unglaublich: der LHC produziert jede Sekunde 40 000 000 Teilchenkollisionen!\n",
    "\n",
    "Manche Teilchen, die bei dieser Kollision entstehen (z.B.: Elektronen und Myonen) können direkt von den Dedektoren erfasst werden. Manche exotische und spannende Teilchen (wie z.B. das Higgsboson) haben allerdings eine sehr kurze Lebensdauer und zerfallen in weitere Teilchen bevor sie der Detektor erfassen kann. Woher wissen wir also, dass sie überhaupt da waren?\n",
    "\n",
    "\n",
    "## Die Jagd nach dem J/$\\Psi$\n",
    "\n",
    "Wir suchen nach dem Beweis für eines dieser kurzlebigen Teilchen namens J/$\\psi$. Die Existenz dieses Teilchens, das aus einem Charm- und eine Anticharmquark besteht, wird durch das Standardmodell der Teilchenphysik vorausgesagt. Die Lebensdauer beträgt $7,2 \\cdot 10^{-21}$ s, danach zerfällt es in weitere Teilchen. Die Lebensdauer des Teilchens ist viel zu kurz um es mit Detektoren vom LHC zu beobachten. Glücklicherweise wissen wir, dass das J/$\\psi$-Teilchen in ein Myon-Antimyon-Paar zerfällt. Dieses Paar kann mithilfe von Dedektoren erfasst werden. Da neben dem J/$\\psi$-Teilchen auch andere Teilchen entstehen, die ebenfalls in Myonen oder Antimyonen zerfallen, können erfasst der Detektor nicht nur die Myonen vom J/$\\psi$, sondern auch tausende weitere. Dieses Problem muss zuerst behoben werden bevor wir weiter über die Entdeckung des J/$\\psi$-Teilchen sprechen können.\n",
    "\n",
    "\n",
    "## Invariant Mass\n",
    "\n",
    "Es gibt einen Trick den Teilchenphysiker verwenden, wenn sie Daten von Detektoren analysieren. Durch die Kombination von Energie und Impuls einer Teilchenpaars (in unserem Fall eines Myons und eines Antimyons) auf eine bestimmte Weise kann die sogenannte \"Invariante Masse\" des ursprünglichen Teilchens bestimmt werden. Wenn die zwei Teilchen tatsächlich durch den Zerfall des ursprünglichen Teilchens enstanden sind, dann wird mit dieser Größe die Masse des ursprünglichen Teilchens erfasst (Einheit: $GeV/c^2$). \n",
    "Wenn durch unsere Kollision viele J/$\\psi$-Teilchen entstehen, dann müssten wir auch viele Paare von Myonen finden, die zurückgerechnet genau die vorausgesagte invariante Masse des J/$\\psi$ ergeben. \n",
    "\n",
    "Um diesen Vorgang zu verstehen und die Existenz eines Teilchens zu bestätigen müssen wir einige Daten analysieren. \n"
   ]
  },
  {
   "cell_type": "markdown",
   "metadata": {
    "colab_type": "text",
    "id": "DK956lP52AYs"
   },
   "source": [
    "# Jupyter Notebooks\n",
    "\n",
    "Das Dokument, das du vor dir siehst, ist ein Jupyter Notebook. Es wird von professionellen Wissenschaftlern am CERN (und auch in anderen Institutionen) verwendet um Daten vom LHC zu analysieren. Jupyter Notebooks bestehen aus Textzellen wie dieser und Codezellen, wie du sie unterhalb siehst. In den Codezellen kann die Programmiersprache \"Python\" verwendet werden. Um die Zelle auszuführen musst du Strg + Enter drücken. Probier es unterhalb gleich mal aus! (Der dargestellte Code wird verwendet um verschiedene Softwarepakete zu laden, die wir später benötigen.)"
   ]
  },
  {
   "cell_type": "code",
   "execution_count": 1,
   "metadata": {
    "colab": {
     "autoexec": {
      "startup": false,
      "wait_interval": 0
     }
    },
    "colab_type": "code",
    "id": "4lfPs4PVuVF5"
   },
   "outputs": [],
   "source": [
    "#lines of code writen with a hashtag like this are comments, and will be ignored when you run the code.\n",
    "\n",
    "import pandas as pd\n",
    "import numpy as np\n",
    "import matplotlib.pyplot as plt\n",
    "\n",
    "%matplotlib inline"
   ]
  },
  {
   "cell_type": "markdown",
   "metadata": {
    "colab_type": "text",
    "id": "Tm-irsU2C350"
   },
   "source": [
    "# Wie gehe ich mit \"Open Data\" um?\n",
    "## 1. Daten lesen\n",
    " \n",
    "Es gibt unzählige open-data-Portale die Daten verschiedenster Art zur Verfügung stellen. \n",
    " \n",
    "In unserem Fall verwenden wir das open-data-Portal, das von CERN zur Verfügung gestellt wird: *(http://opendata.cern.ch/)*\n",
    " \n",
    "Um die Daten zu lesen müssen wir folgende Funktion verwenden: **pd.read_csv**.\n",
    "\n",
    "Der Link zum Datenportal ist das Argument der Funktion **pd.read_csv**.  \n",
    " \n",
    "*Hinweis*: Die Daten sollten im *.csv*-Format verfügbar sein.\n",
    " \n",
    " **Beispiel:**\n",
    " \n",
    " <font color='green'> muons = pd.read_csv('</font> <font color= 'red' > URL </font>  <font color='green'> ')</font>\n",
    " \n",
    "**Hinweis: Wenn du in diesem Notebook einen Beispielcode vorfindest solltes du die <font color='green'>grpnden</font> Teile beibehalten und die <font color= 'red' >roten</font> Teile verändern.**\n",
    "\n",
    "\n",
    "\n",
    "**Aufgabe 1.**\n",
    "\n",
    "\n",
    "Beginnen wir mit der Suche nach dem J/ψ indem wir reale Daten vom CMS-Experiment am CERN laden. CERN stellt Daten öffentlich zur Verfügung um genau solche Projekte wie dieses hier zu unterstützen!\n",
    "\n",
    "Erstelle eine Datenreihe namens \"muons\", welche die Daten von folgender Website einliest. Verwende dazu den Beispielcode von oben:\n",
    "http://opendata.cern.ch/record/545/files/Dimuon_DoubleMu.csv\n",
    "\n",
    " "
   ]
  },
  {
   "cell_type": "code",
   "execution_count": 2,
   "metadata": {
    "colab": {
     "autoexec": {
      "startup": false,
      "wait_interval": 0
     }
    },
    "colab_type": "code",
    "id": "9ACrr9KS64JG"
   },
   "outputs": [],
   "source": [
    "muons = pd.read_csv('http://opendata.cern.ch/record/545/files/Dimuon_DoubleMu.csv')"
   ]
  },
  {
   "cell_type": "markdown",
   "metadata": {
    "colab_type": "text",
    "id": "Gl68A-dGFkz4"
   },
   "source": [
    "## 2. Daten sichtbar mache.\n",
    "Wie dir wahrscheinlich aufgefallen ist scheint es als ob nichts passiert wäre. Die Information und die Daten sind in der Zelle gespeichert, bleiben für dich allerdings unsichtbar.\n",
    "\n",
    "Um herauszufinden wieviel Daten wir geladen haben müssen wir sie allerdings genauer betrachten können.\n",
    "Da die Daten in Form einer Tabelle gepeichert sind müssen wir nur die Anzahl an Zeilen zählen (diese Zahl enspricht der Anzahl an Messungen im Experiment).\n",
    "\n",
    "**Voraufgabe**:\n",
    "\n",
    "**F:** Rate wie Länge die Datentabelle sein wird, die du gerade geladen hast und tippe deine Schätzung in die nächste Zeile: "
   ]
  },
  {
   "cell_type": "markdown",
   "metadata": {
    "colab_type": "text",
    "id": "XqOV7UA-cwIS"
   },
   "source": [
    "**A:**"
   ]
  },
  {
   "cell_type": "markdown",
   "metadata": {
    "colab_type": "text",
    "id": "6xAk2HP3ZCOY"
   },
   "source": [
    "Um die Länge der Datentabelle zu ermitteln müssen wir die \"len\"-Funktion verwenden: \n",
    "\n",
    "**Beispiel:**\n",
    "\n",
    "<font color = 'green'>len(</font><font color = 'red'>Name_der_Daten</font><font color = 'green'>)</font>\n",
    "\n",
    "**Aufgabe 2. **\n",
    "Bestimme die Länge der Datenreihe, indem du den Code in die Zelle unterhalb tippst. \n"
   ]
  },
  {
   "cell_type": "code",
   "execution_count": 3,
   "metadata": {
    "colab": {
     "autoexec": {
      "startup": false,
      "wait_interval": 0
     },
     "base_uri": "https://localhost:8080/",
     "height": 34
    },
    "colab_type": "code",
    "executionInfo": {
     "elapsed": 555,
     "status": "ok",
     "timestamp": 1531319364125,
     "user": {
      "displayName": "Ian Watkins",
      "photoUrl": "https://lh3.googleusercontent.com/a/default-user=s128",
      "userId": "101912210865552925087"
     },
     "user_tz": -120
    },
    "id": "XjoxCsaiFkJO",
    "outputId": "0c892ee6-0274-4812-f5e8-c0536f533442"
   },
   "outputs": [
    {
     "data": {
      "text/plain": [
       "100000"
      ]
     },
     "execution_count": 3,
     "metadata": {},
     "output_type": "execute_result"
    }
   ],
   "source": [
    "len(muons)"
   ]
  },
  {
   "cell_type": "markdown",
   "metadata": {
    "colab_type": "text",
    "id": "D9a56RthdUa0"
   },
   "source": [
    "**Aufgabe 3.**\n",
    "*Dikussion*: Warum benötigen wir so viele Daten?"
   ]
  },
  {
   "cell_type": "markdown",
   "metadata": {
    "colab_type": "text",
    "id": "GWrwsEh3dpmz"
   },
   "source": [
    "**Aufgabe 4.** *Brainstorming*: Welche Größen könnten bei diesem Experiment interessant sein zu messen. Tippe einige Vermutungen in die Textzelle unterhalb."
   ]
  },
  {
   "cell_type": "markdown",
   "metadata": {
    "colab_type": "text",
    "id": "7ZshL4xyi6C-"
   },
   "source": [
    "**A:**"
   ]
  },
  {
   "cell_type": "markdown",
   "metadata": {
    "colab_type": "text",
    "id": "QWF2h58roTC5"
   },
   "source": [
    "**Aufgabe 5. **\n",
    "\n",
    "Nun wird es Zeit einen genaueren Blick auf den Inhalt unserer Daten zu werfen. Um uns die ersten 5 Zeilen der Daten anzusehen müssen wir die \"head\"-Funktion verwenden.\n",
    "\n",
    "**Beispiel:**\n",
    "\n",
    "<font color = 'red'>Name_der_Daten</font><font color = 'green'>.head()</font>\n",
    "\n",
    "Verwende die Codezelle unterhalb um die ersten 5 Zeilen unserer Daten zu enthüllen."
   ]
  },
  {
   "cell_type": "code",
   "execution_count": 4,
   "metadata": {
    "colab": {
     "autoexec": {
      "startup": false,
      "wait_interval": 0
     },
     "base_uri": "https://localhost:8080/",
     "height": 233
    },
    "colab_type": "code",
    "executionInfo": {
     "elapsed": 533,
     "status": "ok",
     "timestamp": 1531319372892,
     "user": {
      "displayName": "Ian Watkins",
      "photoUrl": "https://lh3.googleusercontent.com/a/default-user=s128",
      "userId": "101912210865552925087"
     },
     "user_tz": -120
    },
    "id": "MlCBXh7sJmlw",
    "outputId": "91068c4e-bd2a-48d7-e63c-bdedfdc2d972"
   },
   "outputs": [
    {
     "data": {
      "text/html": [
       "<div>\n",
       "<style scoped>\n",
       "    .dataframe tbody tr th:only-of-type {\n",
       "        vertical-align: middle;\n",
       "    }\n",
       "\n",
       "    .dataframe tbody tr th {\n",
       "        vertical-align: top;\n",
       "    }\n",
       "\n",
       "    .dataframe thead th {\n",
       "        text-align: right;\n",
       "    }\n",
       "</style>\n",
       "<table border=\"1\" class=\"dataframe\">\n",
       "  <thead>\n",
       "    <tr style=\"text-align: right;\">\n",
       "      <th></th>\n",
       "      <th>Run</th>\n",
       "      <th>Event</th>\n",
       "      <th>type1</th>\n",
       "      <th>E1</th>\n",
       "      <th>px1</th>\n",
       "      <th>py1</th>\n",
       "      <th>pz1</th>\n",
       "      <th>pt1</th>\n",
       "      <th>eta1</th>\n",
       "      <th>phi1</th>\n",
       "      <th>...</th>\n",
       "      <th>type2</th>\n",
       "      <th>E2</th>\n",
       "      <th>px2</th>\n",
       "      <th>py2</th>\n",
       "      <th>pz2</th>\n",
       "      <th>pt2</th>\n",
       "      <th>eta2</th>\n",
       "      <th>phi2</th>\n",
       "      <th>Q2</th>\n",
       "      <th>M</th>\n",
       "    </tr>\n",
       "  </thead>\n",
       "  <tbody>\n",
       "    <tr>\n",
       "      <th>0</th>\n",
       "      <td>165617</td>\n",
       "      <td>74601703</td>\n",
       "      <td>G</td>\n",
       "      <td>9.6987</td>\n",
       "      <td>-9.5104</td>\n",
       "      <td>0.3662</td>\n",
       "      <td>1.8633</td>\n",
       "      <td>9.5175</td>\n",
       "      <td>0.1945</td>\n",
       "      <td>3.1031</td>\n",
       "      <td>...</td>\n",
       "      <td>G</td>\n",
       "      <td>9.7633</td>\n",
       "      <td>7.3277</td>\n",
       "      <td>-1.1524</td>\n",
       "      <td>6.3473</td>\n",
       "      <td>7.4178</td>\n",
       "      <td>0.7756</td>\n",
       "      <td>-0.1560</td>\n",
       "      <td>1</td>\n",
       "      <td>17.4922</td>\n",
       "    </tr>\n",
       "    <tr>\n",
       "      <th>1</th>\n",
       "      <td>165617</td>\n",
       "      <td>75100943</td>\n",
       "      <td>G</td>\n",
       "      <td>6.2039</td>\n",
       "      <td>-4.2666</td>\n",
       "      <td>0.4565</td>\n",
       "      <td>-4.4793</td>\n",
       "      <td>4.2910</td>\n",
       "      <td>-0.9121</td>\n",
       "      <td>3.0350</td>\n",
       "      <td>...</td>\n",
       "      <td>G</td>\n",
       "      <td>9.6690</td>\n",
       "      <td>7.2740</td>\n",
       "      <td>-2.8211</td>\n",
       "      <td>-5.7104</td>\n",
       "      <td>7.8019</td>\n",
       "      <td>-0.6786</td>\n",
       "      <td>-0.3700</td>\n",
       "      <td>1</td>\n",
       "      <td>11.5534</td>\n",
       "    </tr>\n",
       "    <tr>\n",
       "      <th>2</th>\n",
       "      <td>165617</td>\n",
       "      <td>75587682</td>\n",
       "      <td>G</td>\n",
       "      <td>19.2892</td>\n",
       "      <td>-4.2121</td>\n",
       "      <td>-0.6516</td>\n",
       "      <td>18.8121</td>\n",
       "      <td>4.2622</td>\n",
       "      <td>2.1905</td>\n",
       "      <td>-2.9881</td>\n",
       "      <td>...</td>\n",
       "      <td>G</td>\n",
       "      <td>9.8244</td>\n",
       "      <td>4.3439</td>\n",
       "      <td>-0.4735</td>\n",
       "      <td>8.7985</td>\n",
       "      <td>4.3697</td>\n",
       "      <td>1.4497</td>\n",
       "      <td>-0.1086</td>\n",
       "      <td>1</td>\n",
       "      <td>9.1636</td>\n",
       "    </tr>\n",
       "    <tr>\n",
       "      <th>3</th>\n",
       "      <td>165617</td>\n",
       "      <td>75660978</td>\n",
       "      <td>G</td>\n",
       "      <td>7.0427</td>\n",
       "      <td>-6.3268</td>\n",
       "      <td>-0.2685</td>\n",
       "      <td>3.0802</td>\n",
       "      <td>6.3325</td>\n",
       "      <td>0.4690</td>\n",
       "      <td>-3.0992</td>\n",
       "      <td>...</td>\n",
       "      <td>G</td>\n",
       "      <td>5.5857</td>\n",
       "      <td>4.4748</td>\n",
       "      <td>0.8489</td>\n",
       "      <td>-3.2319</td>\n",
       "      <td>4.5546</td>\n",
       "      <td>-0.6605</td>\n",
       "      <td>0.1875</td>\n",
       "      <td>1</td>\n",
       "      <td>12.4774</td>\n",
       "    </tr>\n",
       "    <tr>\n",
       "      <th>4</th>\n",
       "      <td>165617</td>\n",
       "      <td>75947690</td>\n",
       "      <td>G</td>\n",
       "      <td>7.2751</td>\n",
       "      <td>0.1030</td>\n",
       "      <td>-5.5331</td>\n",
       "      <td>-4.7212</td>\n",
       "      <td>5.5340</td>\n",
       "      <td>-0.7736</td>\n",
       "      <td>-1.5522</td>\n",
       "      <td>...</td>\n",
       "      <td>G</td>\n",
       "      <td>7.3181</td>\n",
       "      <td>-0.3988</td>\n",
       "      <td>6.9408</td>\n",
       "      <td>2.2825</td>\n",
       "      <td>6.9523</td>\n",
       "      <td>0.3227</td>\n",
       "      <td>1.6282</td>\n",
       "      <td>1</td>\n",
       "      <td>14.3159</td>\n",
       "    </tr>\n",
       "  </tbody>\n",
       "</table>\n",
       "<p>5 rows × 21 columns</p>\n",
       "</div>"
      ],
      "text/plain": [
       "      Run     Event type1       E1     px1     py1      pz1     pt1    eta1  \\\n",
       "0  165617  74601703     G   9.6987 -9.5104  0.3662   1.8633  9.5175  0.1945   \n",
       "1  165617  75100943     G   6.2039 -4.2666  0.4565  -4.4793  4.2910 -0.9121   \n",
       "2  165617  75587682     G  19.2892 -4.2121 -0.6516  18.8121  4.2622  2.1905   \n",
       "3  165617  75660978     G   7.0427 -6.3268 -0.2685   3.0802  6.3325  0.4690   \n",
       "4  165617  75947690     G   7.2751  0.1030 -5.5331  -4.7212  5.5340 -0.7736   \n",
       "\n",
       "     phi1   ...     type2      E2     px2     py2     pz2     pt2    eta2  \\\n",
       "0  3.1031   ...         G  9.7633  7.3277 -1.1524  6.3473  7.4178  0.7756   \n",
       "1  3.0350   ...         G  9.6690  7.2740 -2.8211 -5.7104  7.8019 -0.6786   \n",
       "2 -2.9881   ...         G  9.8244  4.3439 -0.4735  8.7985  4.3697  1.4497   \n",
       "3 -3.0992   ...         G  5.5857  4.4748  0.8489 -3.2319  4.5546 -0.6605   \n",
       "4 -1.5522   ...         G  7.3181 -0.3988  6.9408  2.2825  6.9523  0.3227   \n",
       "\n",
       "     phi2  Q2        M  \n",
       "0 -0.1560   1  17.4922  \n",
       "1 -0.3700   1  11.5534  \n",
       "2 -0.1086   1   9.1636  \n",
       "3  0.1875   1  12.4774  \n",
       "4  1.6282   1  14.3159  \n",
       "\n",
       "[5 rows x 21 columns]"
      ]
     },
     "execution_count": 4,
     "metadata": {},
     "output_type": "execute_result"
    }
   ],
   "source": [
    "muons.head()"
   ]
  },
  {
   "cell_type": "markdown",
   "metadata": {
    "colab_type": "text",
    "id": "Y6B2AldBKBVT"
   },
   "source": [
    "## 3. Daten verstehen\n"
   ]
  },
  {
   "cell_type": "markdown",
   "metadata": {
    "colab_type": "text",
    "id": "tHhk4lJ1L6-9"
   },
   "source": [
    "Wie du siehst sind in der Tabelle die Größen zweier Teilchen aufgelistet (wie wir wissen muss es ein Myonpaar sein). Die Größen wurden nach der Kollision vom Detektor erfasst und berechnet.\n",
    "Jede Spalte, die mit dem Index 1 oder 2 beschriftet ist steht für eine Größe die zu Teilchen 1 oder 2 gehört. \n",
    "\n",
    "**E** - Energie des Teilchen\n",
    "\n",
    "**px, py, pz** -  *x,y,z*-Komponenten der Impulse der Teilchen\n",
    "\n",
    "**pt** - Die Kombination von px und py (Der Teil des Impulses der normal auf den Impuls des Teilchenstrahls steht)\n",
    "\n",
    "**eta, phi** - Winkel die die Richtung der Bewegung der Teilchen angeben\n",
    "\n",
    "**Q** -  Elektrische Ladung der Teilchen in electrical charge of the particle in Elementarladungen\n",
    "\n",
    "**M** - Invariante Masse des Myonpaars\n",
    "\n",
    "\n",
    "Hinweis: Physiker im Bereich Teilchenphysik verwenden sogenannte \"Natürliche Einheiten\" für diese Größen. Diese Einheiten verwenden die berühmte Formel von Einstein E=mc$^2$ um Energie, Impuls und Masse in folgenden Einheiten anzugeben: GeV, GeV/c und GeV/c$^2$.\n",
    "\n",
    "<img src=\"https://media.giphy.com/media/KpJtbODlSkxYk/giphy.gif\" alt=\"collision\">\n"
   ]
  },
  {
   "cell_type": "markdown",
   "metadata": {
    "colab_type": "text",
    "id": "RFE35ljB55Fy"
   },
   "source": [
    "## 4. Präsentation der Daten \n",
    "\n"
   ]
  },
  {
   "cell_type": "markdown",
   "metadata": {
    "colab_type": "text",
    "id": "yrEA6qeM6Duq"
   },
   "source": [
    "Wir haben nun viele Daten in Form einer Tabelle zur Verfügung. Dies ist sicher nicht die beste Art der Darstellung  um die Daten zu analysieren und das J/$\\psi$-Teilchen zu finden. \n",
    "\n",
    "Um die Daten besser darzustellen können Histogramme verwendet werden.\n",
    "\n",
    "\n",
    "---\n",
    "\n",
    "\n",
    "\n",
    "** *Kurzer Exkurs in die Erstellung eines Histogramms:*  **\n",
    "\n",
    "** *Schritt 1.* ** \n",
    "\n",
    "\"Bin\"  die Klassen der Daten - unerteilt die gesamte Bandbreite der Daten (zum Beispiel die Teilchenenergie) in eine kleiere Anzahl an Intervallen.\n",
    "Die \"bins\" oder Klassen sind nacheinander folgende sich nicht überlappende Intervalle der Variablen. \n",
    "\n",
    "Die \"bins\" sind angrenzend und üblicherweise gleicher Breite.\n",
    "\n",
    "** *Schritt 2.* ** \n",
    "\n",
    "Anzahl der Werte in einem Intervall bestimmen: Wenn die \"bins\" gleiche Größe haben dann ist die Höhe des Rechtecks dividiert durch die Breite der Klasse proportional zur Anzahl der Daten in der Klasse.\n",
    "\n",
    "** Beispiel Histogramm**\n",
    "\n",
    "\n",
    "![Image](https://upload.wikimedia.org/wikipedia/commons/thumb/d/d9/Black_cherry_tree_histogram.svg/220px-Black_cherry_tree_histogram.svg.png)\n",
    "\n",
    "\n",
    "\n",
    "---\n",
    "\n"
   ]
  },
  {
   "cell_type": "markdown",
   "metadata": {
    "colab_type": "text",
    "id": "kbAiUUfF-qa_"
   },
   "source": [
    "Wir verwenden nun einen Code um ein Histogramm zu erstellen:\n",
    "\n",
    "**Beispiel:**\n",
    "\n",
    "<font color = 'green'> fig = plt.figure( figsize=(15, 10))</font> *(Diese Zeile bestimmt die Größe des Histogramms und beinhaltet einen x-Wert und einen y-Werte (wie die Länge und Breite eines Rechtecks)*\n",
    "\n",
    "<font color = 'green'>plt.hist(</font><font color = 'red'>Name_der_Daten.Name_der_Spalte, Anzahl_bins , </font><font color = 'green'>range = </font><font color = 'red'>(min , max)</font><font color = 'green'>)</font> *(Diese Zeile plotted das Histogramm anhand der Parameter in den Klammern.\"range\" bestimmt die Grenzen für die Werte der x-Achse)* \n",
    "\n",
    "<font color = 'green'>plt.xlabel(</font><font color = 'red'>'Bezeichnung_x-Achse, Einheit'</font><font color = 'green'> \\n, fontsize = 15</font>) *(Diese Zeile beschriftet die x-Achse. Die Zahl \"fontsize\" wird verwendet um die Größe des Texts zu bestimmen. Das Symbol /n erstellt eine neue Zeile und lässt den Plot schöner aussehen)*\n",
    "\n",
    "<font color = 'green'>plt.ylabel('Number of Events \\n', fontsize = 15)</font> *(Diese Zeile beschriftet die y-Achse)*\n",
    "\n",
    "<font color = 'green'>plt.title(</font><font color = 'red'>'Titel'</font><font color = 'green'> \\n, fontsize = 15)</font> *(In dieser Zeile wird der Titel für den Plot festgelegt.)*\n",
    "\n",
    "<font color = 'green'>plt.show()"
   ]
  },
  {
   "cell_type": "markdown",
   "metadata": {
    "colab_type": "text",
    "id": "YR_uy5r7Eyoq"
   },
   "source": [
    "** Aufgabe 6 ** \n",
    "Zeichne ein Histogramm für die Invariante Masse (M) deiner Daten in der Codezeile unterhalb.\n",
    "\n",
    "\n",
    "*Vorschlag * : Um das infromativste Bild zu erhalten solltest du eine Bandbreite für die Invariante Masse zwischen 0-150 verwenden und  verschiedene Zahlen für die \"bins\" ausprobieren (starte bei 200). Es gibt keine \"richtige\" Anzahl an \"bins\", allerdings können durch verschiedene \"bin\"-Zahlen verschiedene Informationen sichtbar werden. Wähle weise."
   ]
  },
  {
   "cell_type": "code",
   "execution_count": 5,
   "metadata": {
    "colab": {
     "autoexec": {
      "startup": false,
      "wait_interval": 0
     },
     "base_uri": "https://localhost:8080/",
     "height": 650
    },
    "colab_type": "code",
    "executionInfo": {
     "elapsed": 1229,
     "status": "ok",
     "timestamp": 1531319436080,
     "user": {
      "displayName": "Ian Watkins",
      "photoUrl": "https://lh3.googleusercontent.com/a/default-user=s128",
      "userId": "101912210865552925087"
     },
     "user_tz": -120
    },
    "id": "m9nBa0OdJnF6",
    "outputId": "40106a36-cb0c-4890-bb87-7ea94e9547bf"
   },
   "outputs": [
    {
     "data": {
      "image/png": "[encoded data removed]",
      "text/plain": [
       "<Figure size 1440x720 with 1 Axes>"
      ]
     },
     "metadata": {},
     "output_type": "display_data"
    }
   ],
   "source": [
    "fig = plt.figure(figsize=(20, 10))\n",
    "\n",
    "plt.hist(muons.M, 300, range = (0,150))\n",
    "\n",
    "plt.xlabel('Invariant mass (GeV/$c^2$)', fontsize = 15)\n",
    "plt.ylabel('Number of events \\n', fontsize = 15)\n",
    "plt.title('Measured distribution of events with two muons \\n', fontsize = 15)\n",
    "\n",
    "plt.show()"
   ]
  },
  {
   "cell_type": "markdown",
   "metadata": {
    "colab_type": "text",
    "id": "dp4sKnpvHyPt"
   },
   "source": [
    "** Aufgabe 7. **\n",
    "Was kannst du erkennen? Schreibe in der Textzelle unterhalb einige allgemeine Beobachtungen nieder und beziehe dich dabei auf das Histogramm. "
   ]
  },
  {
   "cell_type": "markdown",
   "metadata": {
    "colab_type": "text",
    "id": "XjazNgBWWv7j"
   },
   "source": [
    "**A:**"
   ]
  },
  {
   "cell_type": "markdown",
   "metadata": {
    "colab_type": "text",
    "id": "nCmhHZp_P9-T"
   },
   "source": [
    "## 5. Schauen wir uns die Daten genauer an."
   ]
  },
  {
   "cell_type": "markdown",
   "metadata": {
    "colab_type": "text",
    "id": "fU2vw7aLP9-V"
   },
   "source": [
    "Glückwunsch! Du hast soben die kompletten Daten geplottet und somit eine schöne Übersicht über die Invariante Masse der 100 000 erfassten Myonenpaare gewonnen."
   ]
  },
  {
   "cell_type": "markdown",
   "metadata": {
    "colab_type": "text",
    "id": "EfkGXNXtP9-W"
   },
   "source": [
    "Gehen wir nun einen Schritt weiter: <br>Unser Hauptziel war ein neues Teilchen zu finden!<br>Theoretische Voraussagen von 1974 sagen eine Wahrscheinlichkeit von 6% für den Zerfall eines J/$\\psi$-Teilchen in ein Myonenpaar voraus. Das J/$\\psi$-Teilchen soll dabei eine Masse von rund $3 GeV/c^2$ und eine Lebensdauer von $7,2\\cdot10^{-21} s$ haben.\n",
    "\n",
    "**Aufgabe 8. Beantworte die Fragen unterhalb:**\n"
   ]
  },
  {
   "cell_type": "markdown",
   "metadata": {
    "colab_type": "text",
    "id": "WTQxN7PWP9-X"
   },
   "source": [
    "<b>F:</b> Welche Information von der Textzelle oberhalb ist für uns relevant um einen genaueren und sinnvollen Blick auf die Daten werfen zu können?"
   ]
  },
  {
   "cell_type": "markdown",
   "metadata": {
    "colab_type": "text",
    "id": "YDNVlqycP9-X"
   },
   "source": [
    "<b>A</b>:"
   ]
  },
  {
   "cell_type": "markdown",
   "metadata": {
    "colab_type": "text",
    "id": "X73UdodoP9-Y"
   },
   "source": [
    "<b>F:</b> Was bedeutet es eine Masse von $3 GeV/c^2$ zu haben? In welchem Zusammenhang steht die Einheit GeV zur SI-unit \"kg\"?"
   ]
  },
  {
   "cell_type": "markdown",
   "metadata": {
    "colab_type": "text",
    "id": "13SkTOMwP9-Z"
   },
   "source": [
    "<b>A:</b>"
   ]
  },
  {
   "cell_type": "markdown",
   "metadata": {
    "colab_type": "text",
    "id": "Po3tQl5OP9-a"
   },
   "source": [
    "Wenn wir in den Plot hineinzoomen und einen kleinen Teil des Histogramms genauer untersuchen wollen brauchen müssen wir unsere Daten auf den Teil beschränken, der uns interessiert. Danach müssen wir das neue Datenset plotten. Hier ist ein Beispiel für die bestimmung des limitierten Datensets:\n"
   ]
  },
  {
   "cell_type": "markdown",
   "metadata": {
    "colab_type": "text",
    "id": "iqYYumrsP9-c"
   },
   "source": [
    "**Beispiel: **<br>\n",
    "<br><font color='green'> <font color='red'>Name_des_beschränkte_Datensets</font> = <font color='red'>Name_der_originalen_Daten</font>[(<font color='red'>Name_der_originalen_Daten</font>.<font color='red'>Name_der Spalte</font> >= <font color='red'>untere_Grenze</font>) & (<font color='red'>Name_der_originalen_Daten</font>.<font color='red'>Name_der_Spalte</font> <= <font color='red'>obere_Grenze</font>)] </font>\n"
   ]
  },
  {
   "cell_type": "markdown",
   "metadata": {
    "colab_type": "text",
    "id": "_DXGvacxndtk"
   },
   "source": [
    "**Aufgabe 9.** Verwende die Codezeile unterhalb um ein neues Datenset zu erstellen, das an unsere Bedürfnisse derart angepasst ist um das J/$\\psi$-Teilchen zu finden."
   ]
  },
  {
   "cell_type": "code",
   "execution_count": 6,
   "metadata": {
    "colab": {
     "autoexec": {
      "startup": false,
      "wait_interval": 0
     }
    },
    "colab_type": "code",
    "id": "fZXJqno0oD3d"
   },
   "outputs": [],
   "source": [
    "bump = muons[(muons.M >= 2) & (muons.M <= 4)]"
   ]
  },
  {
   "cell_type": "markdown",
   "metadata": {
    "colab_type": "text",
    "id": "DZsGDqZ-P9-j"
   },
   "source": [
    "<img src=\"https://i.imgur.com/3fAd0w8.gif?1\"\n",
    "alt=\"Coding\">"
   ]
  },
  {
   "cell_type": "markdown",
   "metadata": {
    "colab_type": "text",
    "id": "Sdxp8LtjoF5v"
   },
   "source": [
    "**Aufgabe 10.** Verwende die Codezeile unterhalb um ein Histogramm zu plotten, das das neue Datenset verwendet. Siehe wenn nötig unter Abschnitt 4 nach wie ein Histogramm geplotted wird. Vielleicht musst du für das neue Datenset ein paar Paramter verändern. "
   ]
  },
  {
   "cell_type": "code",
   "execution_count": 7,
   "metadata": {
    "colab": {
     "autoexec": {
      "startup": false,
      "wait_interval": 0
     },
     "base_uri": "https://localhost:8080/",
     "height": 650
    },
    "colab_type": "code",
    "executionInfo": {
     "elapsed": 1315,
     "status": "ok",
     "timestamp": 1531319464330,
     "user": {
      "displayName": "Ian Watkins",
      "photoUrl": "https://lh3.googleusercontent.com/a/default-user=s128",
      "userId": "101912210865552925087"
     },
     "user_tz": -120
    },
    "id": "LkhHAr6qP9-k",
    "outputId": "9342942b-2aa8-4651-e7fa-56938401ada3"
   },
   "outputs": [
    {
     "data": {
      "image/png": "[encoded data removed]",
      "text/plain": [
       "<Figure size 1080x720 with 1 Axes>"
      ]
     },
     "metadata": {},
     "output_type": "display_data"
    }
   ],
   "source": [
    "fig = plt.figure(figsize=(15, 10))\n",
    "\n",
    "plt.hist(bump.M, 300, range = (2,4))\n",
    "\n",
    "plt.xlabel('Invariant mass (GeV/$c^2$)', fontsize = 15)\n",
    "plt.ylabel('Number of events \\n', fontsize = 15)\n",
    "plt.title('Measured distribution of events with two muons \\n', fontsize = 15)\n",
    "\n",
    "plt.show()"
   ]
  },
  {
   "cell_type": "markdown",
   "metadata": {
    "colab_type": "text",
    "id": "PR4zVuSIoztT"
   },
   "source": [
    "## 6. Reflexionsfragen"
   ]
  },
  {
   "cell_type": "markdown",
   "metadata": {
    "colab_type": "text",
    "id": "S-q9ZGvFP9-q"
   },
   "source": [
    "<b>F:</b> Was zum Henker mach ich hier?"
   ]
  },
  {
   "cell_type": "markdown",
   "metadata": {
    "colab_type": "text",
    "id": "sEf_V9fIP9-r"
   },
   "source": [
    "<b>A:</b>"
   ]
  },
  {
   "cell_type": "markdown",
   "metadata": {
    "colab_type": "text",
    "id": "N9crLZCDP9-s"
   },
   "source": [
    "<b>F:</b> Wie kann das Histogramm von oben verwendet werden um den Beweis für die Existenz des J/$\\psi$-Teilchen zu liefern? "
   ]
  },
  {
   "cell_type": "markdown",
   "metadata": {
    "colab_type": "text",
    "id": "yUNaGQNSP9-t"
   },
   "source": [
    "<b>A:</b>"
   ]
  },
  {
   "cell_type": "markdown",
   "metadata": {
    "colab_type": "text",
    "id": "HjTvtpZ9P9-t"
   },
   "source": [
    "<b>F:</b> Welche physikalischen Messungen mussten vorgenommen werden um diesen Beweis hervorzubringen?"
   ]
  },
  {
   "cell_type": "markdown",
   "metadata": {
    "colab_type": "text",
    "id": "0uYYqPNAP9-u"
   },
   "source": [
    "<b>A:</b>"
   ]
  },
  {
   "cell_type": "markdown",
   "metadata": {
    "colab_type": "text",
    "id": "hxBm40ISP9-v"
   },
   "source": [
    "<b>F:</b> Glaubst du, dass das Histogramm die theoretischen Vorhersagen stützt?"
   ]
  },
  {
   "cell_type": "markdown",
   "metadata": {
    "colab_type": "text",
    "id": "-_ZH5dNuP9-v"
   },
   "source": [
    "<b>A:</b>"
   ]
  },
  {
   "cell_type": "markdown",
   "metadata": {
    "colab_type": "text",
    "id": "2v0oZ_d4P9-4"
   },
   "source": [
    "<b>F:</b> Warum können wir nich eine \"eindeutige\" Masse unseres Teilchens erkennen und sehen stattdessen eine Bandbreite an Massen? "
   ]
  },
  {
   "cell_type": "markdown",
   "metadata": {
    "colab_type": "text",
    "id": "LGFdBZJDP9-5"
   },
   "source": [
    "<b>A:</b>"
   ]
  },
  {
   "cell_type": "markdown",
   "metadata": {
    "colab_type": "text",
    "id": "qN2zf1IJP9-z"
   },
   "source": [
    "<b>F:</b> Zähle die grundlegenden Schritte auf, die du auf deinem Weg zum finalen Plot gehen musstest und beschreibe die einzelnen Schritte kurz. "
   ]
  },
  {
   "cell_type": "markdown",
   "metadata": {
    "colab_type": "text",
    "id": "leTGFu2fP9-1"
   },
   "source": [
    "<b>A:</b>"
   ]
  },
  {
   "cell_type": "markdown",
   "metadata": {
    "colab_type": "text",
    "id": "kZLFmu4HP9-2"
   },
   "source": [
    "<b>F:</b> Was denkst du: Können diese Schritte auch zur Lösung andere wissenschaftliche Probleme verwendet werden? Wieso?"
   ]
  },
  {
   "cell_type": "markdown",
   "metadata": {
    "colab_type": "text",
    "id": "m4MPFj2zP9-2"
   },
   "source": [
    "<b>A:</b>"
   ]
  },
  {
   "cell_type": "markdown",
   "metadata": {
    "colab_type": "text",
    "id": "0V4plvLQP9-w"
   },
   "source": [
    "<b>F:</b> Wie kann das open-data-Portal von CERN verwendet werden um andere Teilchen zu finden?"
   ]
  },
  {
   "cell_type": "markdown",
   "metadata": {
    "colab_type": "text",
    "id": "vL7FHbJLP9-x"
   },
   "source": [
    "<b>A:</b>"
   ]
  },
  {
   "cell_type": "markdown",
   "metadata": {
    "colab_type": "text",
    "id": "NCxILqwRP9-y"
   },
   "source": [
    "<b>F:</b> Warum verwenden Wissenschafler Programmiersprache wie Python und Software wie Jupyter um großen Datenmengen zu analysieren?"
   ]
  },
  {
   "cell_type": "markdown",
   "metadata": {
    "colab_type": "text",
    "id": "tkwaLB2qP9-z"
   },
   "source": [
    "<b>A:</b>"
   ]
  },
  {
   "cell_type": "markdown",
   "metadata": {
    "colab_type": "text",
    "id": "JJiGqdo0P9-8"
   },
   "source": [
    "<b> <center><font size=\"6\">Glückwunsch! Du hast soeben den Nobelpreis gewonnen!!</b> </center></font><br>\n",
    "Hier findest du weiterführende Informationen über das Teilchen, dass du soeben entdeckt hast: \n",
    "<br>https://www.symmetrymagazine.org/breaking/2008/05/16/the-jpsi-particle-original-papers"
   ]
  },
  {
   "cell_type": "markdown",
   "metadata": {
    "colab_type": "text",
    "id": "mhJ5dCBDP9-9"
   },
   "source": [
    "<img src=\"https://media.giphy.com/media/3orif4qbRS6WjGJ2zC/giphy.gif\"\n",
    "alt=\"Nobel\">"
   ]
  },
  {
   "cell_type": "markdown",
   "metadata": {
    "colab_type": "text",
    "id": "CqaPTkf7P9--"
   },
   "source": [
    "<img src=\"https://i.pinimg.com/originals/c0/11/53/c011532c725c0f282d20bc6ae46ab27e.gif\"\n",
    "alt=\"Nobel\">"
   ]
  },
  {
   "cell_type": "markdown",
   "metadata": {
    "colab_type": "text",
    "id": "QxNGWwOfP9-_"
   },
   "source": [
    "<img src=\"https://media.giphy.com/media/l0G16vfdq73AtzmKc/giphy.gif\"\n",
    "alt=\"Simpsons\">"
   ]
  },
  {
   "cell_type": "markdown",
   "metadata": {
    "colab_type": "text",
    "id": "iJJndqDAP9-_"
   },
   "source": [
    "<img src=\"https://static1.squarespace.com/static/53422302e4b02233d7451d48/t/54507b04e4b0830eb42cc777/1414560526469/?format=1000w\"\n",
    "alt=\"Brain\">"
   ]
  }
 ],
 "metadata": {
  "colab": {
   "collapsed_sections": [],
   "default_view": {},
   "name": "Dimuon J/Psi for High School (Teacher Version with Code).ipynb",
   "provenance": [],
   "version": "0.3.2",
   "views": {}
  },
  "kernelspec": {
   "display_name": "Python 3",
   "language": "python",
   "name": "python3"
  },
  "language_info": {
   "codemirror_mode": {
    "name": "ipython",
    "version": 3
   },
   "file_extension": ".py",
   "mimetype": "text/x-python",
   "name": "python",
   "nbconvert_exporter": "python",
   "pygments_lexer": "ipython3",
   "version": "3.6.5"
  }
 },
 "nbformat": 4,
 "nbformat_minor": 1
}
