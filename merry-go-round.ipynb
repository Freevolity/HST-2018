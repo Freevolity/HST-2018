{
 "cells": [
  {
   "cell_type": "markdown",
   "metadata": {},
   "source": [
    "# Reading data from the B-Field Sensor of a Smartphone\n",
    "\n",
    "## Summary\n",
    "\n",
    "The smartphnone app \"phyphox\" (avalibale for iOS and Andriod) is used to record B-Field data from the smartphone and export it into a csv-file. \n",
    "\n",
    "A Jupyter Notebook in Python demonstratea, how to import, display, and analyze these data."
   ]
  },
  {
   "cell_type": "markdown",
   "metadata": {},
   "source": [
    "## 1. Reading the data from the csv-file\n",
    "\n",
    "This code is needed to load some software packages that we will need to use later. "
   ]
  },
  {
   "cell_type": "code",
   "execution_count": null,
   "metadata": {},
   "outputs": [],
   "source": [
    "import pandas as pd \n",
    "# pandas is for data structures and data analysis tools\n",
    "import numpy as np\n",
    "# numpy is for scientific computing\n",
    "import matplotlib.pyplot as plt\n",
    "# matplotlib is for plotting"
   ]
  },
  {
   "cell_type": "markdown",
   "metadata": {},
   "source": [
    "First we import the data from the csv-file and print the first rows of the imported table to get an overview. It is also usefull to know the lentght of the imported dataset. The export option we used in phyphox was \"CSV (Comma, decimal point)."
   ]
  },
  {
   "cell_type": "code",
   "execution_count": null,
   "metadata": {},
   "outputs": [],
   "source": [
    "# we use read_csv function from pandas to read the data into a \"data frame\"\n",
    "data = pd.read_csv('data/phyphox_B.csv')"
   ]
  },
  {
   "cell_type": "code",
   "execution_count": null,
   "metadata": {},
   "outputs": [],
   "source": [
    "# print the first 5 rows of the table\n",
    "data.head()"
   ]
  },
  {
   "cell_type": "code",
   "execution_count": null,
   "metadata": {},
   "outputs": [],
   "source": [
    "len(data)"
   ]
  },
  {
   "cell_type": "markdown",
   "metadata": {},
   "source": [
    "## 2. Display data\n",
    "\n",
    "We can put the interesting columns of the table into variables and draw 3 graphs for the x, y, and z-component of the magnetic field B versus time in one single plot. \n",
    "\n",
    "As you notice at the beginning and at the end of the dataset there are some deviations. But in the middle the x and y-compoents follow a sinus-curve. The z-component ist almost constant."
   ]
  },
  {
   "cell_type": "code",
   "execution_count": null,
   "metadata": {},
   "outputs": [],
   "source": [
    "# put relevant data into vectors\n",
    "t=data['Time (s)']\n",
    "mf_x=data['Magnetic Field x (µT)']\n",
    "mf_y=data['Magnetic Field y (µT)']\n",
    "mf_z=data['Magnetic Field z (µT)']"
   ]
  },
  {
   "cell_type": "code",
   "execution_count": null,
   "metadata": {},
   "outputs": [],
   "source": [
    "# plot the x, y and z values of B versus t\n",
    "fig, mf = plt.subplots(figsize=(8,6))\n",
    "plt.title('magnetic field on merry-go-round ', fontsize=15)\n",
    "plt.xlabel('t/s', fontsize=15)\n",
    "plt.ylabel('Megnetic Field', fontsize=15)\n",
    "plt.xticks(size=15)\n",
    "plt.yticks(size=15)\n",
    "plt.plot(t,mf_x, color=\"black\")\n",
    "plt.plot(t,mf_y, color=\"red\")\n",
    "plt.plot(t,mf_z, color=\"blue\")\n",
    "legend = mf.legend(('B_x', 'B_y', 'B_z'),loc='upper right',fontsize=15)\n",
    "plt.axhline(y=0, color='black', linestyle='-')\n",
    "plt.axis([0, 30, -50,50])\n",
    "plt.grid(True)\n",
    "plt.show()"
   ]
  },
  {
   "cell_type": "markdown",
   "metadata": {},
   "source": [
    "## 3. Analyze the Data\n",
    "\n",
    "Now we cut out the interesting part from the dataset and plot agein. It would be interesting to determine the frequency. It is easy to read it  from the plot. But for calculating you have to fit a function to the data.\n",
    "\n",
    "For this we try a least-square estimation of a trigonometric function with 4 parameters. \n",
    "\n",
    "$$y(x) = a + b \\cdot \\sin (c \\cdot x + d)$$\n",
    "\n",
    "Please note that the results for the parameters for a perodic function are strngly dependend from the initial condition. So you have to make a good initial guess for the paramters for the fit."
   ]
  },
  {
   "cell_type": "code",
   "execution_count": null,
   "metadata": {},
   "outputs": [],
   "source": [
    "# rename the columns\n",
    "data=data.rename(index=str, columns={\"Time (s)\":\"t\",\"Magnetic Field x (µT)\":\n",
    "                                     \"B_x\", \"Magnetic Field y (µT)\": \"B_y\", \n",
    "                                     \"Magnetic Field z (µT)\":\"B_z\", \"Absolute field (µT)\":\"B\"})"
   ]
  },
  {
   "cell_type": "code",
   "execution_count": null,
   "metadata": {},
   "outputs": [],
   "source": [
    "# get only the smooth part of the data between 6,5 an 20 s\n",
    "part = data[(data.t >= 6.5) & (data.t <= 20)]"
   ]
  },
  {
   "cell_type": "code",
   "execution_count": null,
   "metadata": {},
   "outputs": [],
   "source": [
    "part.head()"
   ]
  },
  {
   "cell_type": "code",
   "execution_count": null,
   "metadata": {},
   "outputs": [],
   "source": [
    "# put this part into vectors\n",
    "p_t=part['t']\n",
    "p_bx=part['B_x']\n",
    "p_by=part['B_y']\n",
    "p_bz=part['B_z']"
   ]
  },
  {
   "cell_type": "code",
   "execution_count": null,
   "metadata": {},
   "outputs": [],
   "source": [
    "# plot\n",
    "fig, p = plt.subplots(figsize=(8,6))\n",
    "plt.title('merry-go-round magnetic field', fontsize=15)\n",
    "plt.xlabel('t/s', fontsize=15)\n",
    "plt.ylabel('Megnetic Field', fontsize=15)\n",
    "plt.xticks(size=15)\n",
    "plt.yticks(size=15)\n",
    "plt.axhline(y=0, color='black', linestyle='-')\n",
    "plt.plot(p_t,p_bx, color=\"black\")\n",
    "plt.plot(p_t,p_by, color=\"red\")\n",
    "plt.plot(p_t,p_bz, color=\"blue\")\n",
    "legend = p.legend(loc='upper right',fontsize=15)\n",
    "plt.axis([6.5, 20, -40,50])\n",
    "plt.grid(True)\n",
    "plt.show()"
   ]
  },
  {
   "cell_type": "code",
   "execution_count": null,
   "metadata": {},
   "outputs": [],
   "source": [
    "from math import exp, expm1, sin, cos, pi\n",
    "from scipy.optimize import curve_fit\n",
    "# we need this for fitting"
   ]
  },
  {
   "cell_type": "code",
   "execution_count": null,
   "metadata": {},
   "outputs": [],
   "source": [
    "# the function we want to use fitting\n",
    "def func(x, a, b, c, d):\n",
    "    return a + b * np.sin(c * x + d)"
   ]
  },
  {
   "cell_type": "code",
   "execution_count": null,
   "metadata": {},
   "outputs": [],
   "source": [
    "# fitting the B_x-data \n",
    "popt, pcov = curve_fit(func, p_t, p_bx,[0,20,2,2],method='lm')\n",
    "popt\n",
    "# plot the result\n",
    "plt.plot(p_t, func(p_t, *popt), 'r-',label='fit: a=%5.3f, b=%5.3f, c=%5.3f, d=%5.3f' % tuple(popt))\n",
    "plt.plot(p_t,p_bx)\n",
    "plt.xlabel('t')\n",
    "plt.ylabel('B_x')\n",
    "plt.axhline(y=0, color='black', linestyle='-')\n",
    "plt.legend(loc='upper center')\n",
    "plt.axis([6.5, 20, -40,40])\n",
    "plt.show()"
   ]
  },
  {
   "cell_type": "code",
   "execution_count": null,
   "metadata": {},
   "outputs": [],
   "source": [
    "# we can deternine the frequency of the rotation from parameter c\n",
    "print('Frequency in Hz:',popt[2]/2/pi)"
   ]
  },
  {
   "cell_type": "markdown",
   "metadata": {},
   "source": [
    "The calculated frequency is in agreement with the period of oscillation from the plot.\n",
    "\n"
   ]
  },
  {
   "cell_type": "code",
   "execution_count": null,
   "metadata": {},
   "outputs": [],
   "source": []
  }
 ],
 "metadata": {
  "kernelspec": {
   "display_name": "Python 3",
   "language": "python",
   "name": "python3"
  },
  "language_info": {
   "codemirror_mode": {
    "name": "ipython",
    "version": 3
   },
   "file_extension": ".py",
   "mimetype": "text/x-python",
   "name": "python",
   "nbconvert_exporter": "python",
   "pygments_lexer": "ipython3",
   "version": "3.6.5"
  }
 },
 "nbformat": 4,
 "nbformat_minor": 2
}
