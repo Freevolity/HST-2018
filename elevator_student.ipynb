{
 "cells": [
  {
   "cell_type": "markdown",
   "metadata": {},
   "source": [
    "# Summary\n",
    "The activity described in this document is intended to be used as an introduction to using Python, python modules, and Jupyter Notebook to import, display, and analyze large data sets. The data set(s) included for analysis are larger than those typically hand-graphed, but considerably smaller than even small particle physics data sets such as that which WG5𝛂 is including in their analysis."
   ]
  },
  {
   "cell_type": "markdown",
   "metadata": {},
   "source": [
    "## 1. Jupyter Notebooks\n",
    "\n",
    "The document you are looking at now is a Jupyter Notebook. This is a tool used by real professional scientists at CERN (and elsewhere) to analyse the data coming from the LHC. Jupyter notebooks consist of text like this and code cells, like the one below. In the code cells, you can type code in the python programming language. Select the cell and then press ctrl+enter to run the code. Start by running the code cell below. (This code is needed to load some software packages that you will need to use later)\n",
    "\n",
    "Select the cell and then press ctrl+enter to run the code. Start by running the code cell below. (This code is needed to load some software packages that you will need to use later)"
   ]
  },
  {
   "cell_type": "code",
   "execution_count": 1,
   "metadata": {},
   "outputs": [],
   "source": [
    "import pandas as pd \n",
    "#pandas is for data structures and data analysis tools\n",
    "import numpy as np\n",
    "#numpy is for scientific computing\n",
    "import matplotlib.pyplot as plt\n",
    "#matplotlib is for plotting"
   ]
  },
  {
   "cell_type": "markdown",
   "metadata": {},
   "source": [
    "## 2. Revealing the data\n",
    "Start by running the code cell below.\n",
    "\n",
    "As you have noticed, nothing seems to have happened. The data is read and stored in your array, but the information is still \"invisible\" to you. "
   ]
  },
  {
   "cell_type": "code",
   "execution_count": 2,
   "metadata": {},
   "outputs": [],
   "source": [
    "# importing the data into a \"data frame\"\n",
    "# elevator data from floor 0 to 4 to -1 back to 0\n",
    "data = pd.read_csv('data/phyphox_39_0_to__0_with_stop.csv')"
   ]
  },
  {
   "cell_type": "markdown",
   "metadata": {},
   "source": [
    "An array is really just a table, so we need to know how it looks like and whot is the number of rows (this corresponds to the number of experimental measurements and is the length of the array)."
   ]
  },
  {
   "cell_type": "code",
   "execution_count": 3,
   "metadata": {},
   "outputs": [
    {
     "data": {
      "text/html": [
       "<div>\n",
       "<style scoped>\n",
       "    .dataframe tbody tr th:only-of-type {\n",
       "        vertical-align: middle;\n",
       "    }\n",
       "\n",
       "    .dataframe tbody tr th {\n",
       "        vertical-align: top;\n",
       "    }\n",
       "\n",
       "    .dataframe thead th {\n",
       "        text-align: right;\n",
       "    }\n",
       "</style>\n",
       "<table border=\"1\" class=\"dataframe\">\n",
       "  <thead>\n",
       "    <tr style=\"text-align: right;\">\n",
       "      <th></th>\n",
       "      <th>Time (s)</th>\n",
       "      <th>Pressure (hPa)</th>\n",
       "    </tr>\n",
       "  </thead>\n",
       "  <tbody>\n",
       "    <tr>\n",
       "      <th>0</th>\n",
       "      <td>0.000000</td>\n",
       "      <td>965.658035</td>\n",
       "    </tr>\n",
       "    <tr>\n",
       "      <th>1</th>\n",
       "      <td>1.014319</td>\n",
       "      <td>965.657806</td>\n",
       "    </tr>\n",
       "    <tr>\n",
       "      <th>2</th>\n",
       "      <td>2.028876</td>\n",
       "      <td>965.657578</td>\n",
       "    </tr>\n",
       "    <tr>\n",
       "      <th>3</th>\n",
       "      <td>3.042181</td>\n",
       "      <td>965.648727</td>\n",
       "    </tr>\n",
       "    <tr>\n",
       "      <th>4</th>\n",
       "      <td>4.055853</td>\n",
       "      <td>965.635986</td>\n",
       "    </tr>\n",
       "  </tbody>\n",
       "</table>\n",
       "</div>"
      ],
      "text/plain": [
       "   Time (s)  Pressure (hPa)\n",
       "0  0.000000      965.658035\n",
       "1  1.014319      965.657806\n",
       "2  2.028876      965.657578\n",
       "3  3.042181      965.648727\n",
       "4  4.055853      965.635986"
      ]
     },
     "execution_count": 3,
     "metadata": {},
     "output_type": "execute_result"
    }
   ],
   "source": [
    "data.head()"
   ]
  },
  {
   "cell_type": "code",
   "execution_count": 4,
   "metadata": {},
   "outputs": [
    {
     "data": {
      "text/plain": [
       "84"
      ]
     },
     "execution_count": 4,
     "metadata": {},
     "output_type": "execute_result"
    }
   ],
   "source": [
    "len(data)"
   ]
  },
  {
   "cell_type": "markdown",
   "metadata": {},
   "source": [
    "## 3. Understanding data\n",
    "\n",
    "The array contains 84 experimental measurements:\n",
    "Time (s)\tPressure (hPa)\n",
    "\n",
    "To get an impression we can just plot them in a Pressure-Time-Diagramm:"
   ]
  },
  {
   "cell_type": "code",
   "execution_count": 5,
   "metadata": {},
   "outputs": [
    {
     "data": {
      "text/plain": [
       "<function matplotlib.pyplot.show(*args, **kw)>"
      ]
     },
     "execution_count": 5,
     "metadata": {},
     "output_type": "execute_result"
    },
    {
     "data": {
      "image/png": "[encoded data removed]",
      "text/plain": [
       "<Figure size 432x288 with 1 Axes>"
      ]
     },
     "metadata": {},
     "output_type": "display_data"
    }
   ],
   "source": [
    "# t is for time from data in s\n",
    "t=data[\"Time (s)\"]\n",
    "# p is for pressure from data in hPa\n",
    "p=data[\"Pressure (hPa)\"]\n",
    "# plotting the pressure data\n",
    "plt.title('CERN B39 - Barometer Data from Elevator - Pressure')\n",
    "plt.xlabel('t/s')\n",
    "plt.ylabel('p/hPa')\n",
    "plt.plot(t,p)\n",
    "plt.show"
   ]
  },
  {
   "cell_type": "markdown",
   "metadata": {},
   "source": [
    "## 4. Presenting the data\n",
    "\n",
    "The data are collected with a smartphone on an elevator. With some physics we can derive the height of the building. And we can reconstruct the path of the smartphone between the different floors of the bulilding:"
   ]
  },
  {
   "cell_type": "code",
   "execution_count": 6,
   "metadata": {},
   "outputs": [
    {
     "name": "stdout",
     "output_type": "stream",
     "text": [
      "CERN Hight of Building 39: 11.275586136595257 Hight of one Floor: 2.818896534148814\n"
     ]
    },
    {
     "data": {
      "text/plain": [
       "<matplotlib.lines.Line2D at 0x11b864ac8>"
      ]
     },
     "execution_count": 6,
     "metadata": {},
     "output_type": "execute_result"
    },
    {
     "data": {
      "image/png": "[encoded data removed]",
      "text/plain": [
       "<Figure size 432x360 with 1 Axes>"
      ]
     },
     "metadata": {},
     "output_type": "display_data"
    }
   ],
   "source": [
    "# now we have to calculate the hight of the building h04\n",
    "# p4 is the pressure at floor 4, datapoint 30\n",
    "# p0 is the pressure at floor 0, datapoint 5\n",
    "p4=data.loc[30,\"Pressure (hPa)\"]\n",
    "p0=data.loc[5,\"Pressure (hPa)\"]\n",
    "h4=(p0-p4)/1.2/9.81*100\n",
    "# with h04 we can calculate the h values\n",
    "h=h4-(p-p4)/1.2/9.81*100\n",
    "print(\"CERN Hight of Building 39:\",h4,\"Hight of one Floor:\", h4/4)\n",
    "#plot hight\n",
    "fig, dat = plt.subplots(figsize=(6,5))\n",
    "plt.title('CERN B39 - Barometer Data from Elevator - Hight')\n",
    "plt.xlabel('t/s')\n",
    "plt.ylabel('h/m')\n",
    "plt.plot(t,h)\n",
    "# draw a line at ground level\n",
    "plt.axhline(y=0, color='black')"
   ]
  },
  {
   "cell_type": "code",
   "execution_count": null,
   "metadata": {},
   "outputs": [],
   "source": []
  }
 ],
 "metadata": {
  "kernelspec": {
   "display_name": "Python 3",
   "language": "python",
   "name": "python3"
  },
  "language_info": {
   "codemirror_mode": {
    "name": "ipython",
    "version": 3
   },
   "file_extension": ".py",
   "mimetype": "text/x-python",
   "name": "python",
   "nbconvert_exporter": "python",
   "pygments_lexer": "ipython3",
   "version": "3.6.5"
  }
 },
 "nbformat": 4,
 "nbformat_minor": 2
}
