{
 "cells": [
  {
   "cell_type": "markdown",
   "metadata": {},
   "source": [
    "# Reading data from the GPS of a Smartphone\n",
    "\n",
    "## Summary\n",
    "\n",
    "The smartphnone app \"phyphox\" (avalibale for iOS and Andriod) is used to record GPS-data from the smartphone and export it into a csv-file. \n",
    "\n",
    "A Jupyter Notebook in Python demonstratea, how to import and  display these data."
   ]
  },
  {
   "cell_type": "markdown",
   "metadata": {},
   "source": [
    "## 1. Reading the data from the csv-file\n",
    "\n",
    "This code is needed to load some software packages that we will need to use later. Folium provides us the tools to plot the gps-track on an interactive map."
   ]
  },
  {
   "cell_type": "code",
   "execution_count": null,
   "metadata": {},
   "outputs": [],
   "source": [
    "import pandas as pd \n",
    "# pandas is for data structures a\n",
    "import numpy as np\n",
    "# numpy is for scientific computing\n",
    "import matplotlib.pyplot as plt\n",
    "# matplotlib is for plotting\n",
    "import folium\n",
    "# folium is for interactive maps"
   ]
  },
  {
   "cell_type": "markdown",
   "metadata": {},
   "source": [
    "First we import the data from the csv-file and print the first 15 rows of the table to get an overview. It is  usefull to know the lentght of the imported dataset. The export option we used in phyphox was \"CSV (Comma, decimal point). As you noticed the accuracy of the first 9 datapoints ist not very high."
   ]
  },
  {
   "cell_type": "code",
   "execution_count": null,
   "metadata": {},
   "outputs": [],
   "source": [
    "# use read_csv function from pandas to read the data into a \"data frame\"\n",
    "gps = pd.read_csv('data/phyphox_gps.csv')\n",
    "row=len(gps)\n",
    "print(len(gps))\n",
    "gps.head(15)"
   ]
  },
  {
   "cell_type": "markdown",
   "metadata": {},
   "source": [
    "## 2. Display the data on a map\n",
    "\n",
    "With folium we can plot our phyphox-recorded data onto an interactive OpenStreetMap. We use only very basic functions from folium. Folium is able to generate HTML, Javascript and CSS and render an interactive map on the browser. \n",
    "\n",
    "If you click on the map you can easily zoom and move the section."
   ]
  },
  {
   "cell_type": "code",
   "execution_count": null,
   "metadata": {},
   "outputs": [],
   "source": [
    "# rename the lables of the columns for better access in python\n",
    "gps=gps.rename(index=str, columns={'Time (s)':'t','Latitude (°)':'lat', 'Longitude (°)': 'lon', \n",
    "                                   'Height (m)':'h', 'Speed (m/s)':'v', 'Richtung (°)' : 'dir',\n",
    "                                   'Distance (km)' : 'dis', 'Horizontal Accuracy (m)' : 'h_a',\n",
    "                                   'Vertical Accuracy (m)' : 'v_a', 'Satelliten' : 'sat'  })\n",
    "gps.head()"
   ]
  },
  {
   "cell_type": "code",
   "execution_count": null,
   "metadata": {},
   "outputs": [],
   "source": [
    "# use the location of CERN building 39 to plot a map with folium \n",
    "# the zoom_start is convinient for plotting our gps-track\n",
    "location=[46.22984,6.053996]\n",
    "map_gps = folium.Map(location,zoom_start = 17)\n",
    "\n",
    "# set a marker on the map\n",
    "folium.Marker(location).add_to(map_gps)\n",
    "\n",
    "# now we have to cut out the data for the track\n",
    "# we plot only data, if the accuracy is 5 meter or better\n",
    "# px is the variable for the lattitude, py for the longitude\n",
    "part = gps[gps.h_a <= 5]\n",
    "px=part.lat\n",
    "py=part.lon\n",
    "\n",
    "# to plot hte track on a map we have to \"zip\" the px- and py-vector into a list to get \"ponits\"\n",
    "points = list(zip(px,py))\n",
    "\n",
    "# now we can plot the track on the map\n",
    "folium.PolyLine(points, color=\"red\", weight=2.5, opacity=1).add_to(map_gps)\n",
    "\n",
    "# show the map\n",
    "map_gps\n",
    "\n",
    "# you can save the map easily:\n",
    "#map_gps.save(\"track.html\")"
   ]
  },
  {
   "cell_type": "code",
   "execution_count": null,
   "metadata": {},
   "outputs": [],
   "source": []
  }
 ],
 "metadata": {
  "kernelspec": {
   "display_name": "Python 3",
   "language": "python",
   "name": "python3"
  },
  "language_info": {
   "codemirror_mode": {
    "name": "ipython",
    "version": 3
   },
   "file_extension": ".py",
   "mimetype": "text/x-python",
   "name": "python",
   "nbconvert_exporter": "python",
   "pygments_lexer": "ipython3",
   "version": "3.6.5"
  }
 },
 "nbformat": 4,
 "nbformat_minor": 2
}
